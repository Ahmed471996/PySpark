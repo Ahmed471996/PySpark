{
  "cells": [
    {
      "cell_type": "markdown",
      "id": "fa486f23",
      "metadata": {
        "id": "fa486f23"
      },
      "source": [
        "![image.png](attachment:image.png)"
      ]
    },
    {
      "cell_type": "markdown",
      "id": "abbf1e33",
      "metadata": {
        "id": "abbf1e33"
      },
      "source": [
        "##### **Good luck with taking your exam. Keep working and make your dreams all come true. Seeing the results of all of your hard work will make this struggle worth it. We’re all thinking of you.** \n",
        "<b><font color='blue'>AI-PRO Spark Team ITI</font></b>"
      ]
    },
    {
      "cell_type": "markdown",
      "id": "c9da32d6",
      "metadata": {
        "id": "c9da32d6"
      },
      "source": [
        "# NLP Using PySpark"
      ]
    },
    {
      "cell_type": "markdown",
      "id": "8326ba88",
      "metadata": {
        "id": "8326ba88"
      },
      "source": [
        "## Objective:\n",
        "- The objective from this project is to create a <b>Spam filter using NaiveBayes classifier</b>.\n",
        "- It is required to obtain <b>f1_scored > 0.9</b>.\n",
        "- We'll use a dataset from UCI Repository. SMS Spam Detection: https://archive.ics.uci.edu/ml/datasets/SMS+Spam+Collection\n",
        "- Data is also provided for you in the assignment (you do not have to download it)."
      ]
    },
    {
      "cell_type": "markdown",
      "id": "6971f788",
      "metadata": {
        "id": "6971f788"
      },
      "source": [
        "## To perform this task follow the following guiding steps:"
      ]
    },
    {
      "cell_type": "markdown",
      "id": "e31bc851",
      "metadata": {
        "id": "e31bc851"
      },
      "source": [
        "### Create a spark session and import the required libraries"
      ]
    },
    {
      "cell_type": "code",
      "source": [
        "!pip install pyspark"
      ],
      "metadata": {
        "colab": {
          "base_uri": "https://localhost:8080/"
        },
        "id": "tZ14EXLsixw_",
        "outputId": "92b0f920-c33a-4ae4-ec21-3cee8d76f165"
      },
      "id": "tZ14EXLsixw_",
      "execution_count": 2,
      "outputs": [
        {
          "output_type": "stream",
          "name": "stdout",
          "text": [
            "Looking in indexes: https://pypi.org/simple, https://us-python.pkg.dev/colab-wheels/public/simple/\n",
            "Collecting pyspark\n",
            "  Downloading pyspark-3.3.0.tar.gz (281.3 MB)\n",
            "\u001b[K     |████████████████████████████████| 281.3 MB 46 kB/s \n",
            "\u001b[?25hCollecting py4j==0.10.9.5\n",
            "  Downloading py4j-0.10.9.5-py2.py3-none-any.whl (199 kB)\n",
            "\u001b[K     |████████████████████████████████| 199 kB 65.2 MB/s \n",
            "\u001b[?25hBuilding wheels for collected packages: pyspark\n",
            "  Building wheel for pyspark (setup.py) ... \u001b[?25l\u001b[?25hdone\n",
            "  Created wheel for pyspark: filename=pyspark-3.3.0-py2.py3-none-any.whl size=281764026 sha256=331ed48868b19ba59a7623dbcfc5a0516f9d3cd1fc7189403ef0411426dae168\n",
            "  Stored in directory: /root/.cache/pip/wheels/7a/8e/1b/f73a52650d2e5f337708d9f6a1750d451a7349a867f928b885\n",
            "Successfully built pyspark\n",
            "Installing collected packages: py4j, pyspark\n",
            "Successfully installed py4j-0.10.9.5 pyspark-3.3.0\n"
          ]
        }
      ]
    },
    {
      "cell_type": "code",
      "execution_count": 47,
      "id": "dcf86e46",
      "metadata": {
        "id": "dcf86e46"
      },
      "outputs": [],
      "source": [
        "from pyspark.sql import SparkSession\n",
        "import numpy as np\n",
        "from pyspark.sql.functions import *\n",
        "from pyspark.sql import functions as F"
      ]
    },
    {
      "cell_type": "code",
      "source": [
        "spark = SparkSession.builder.appName(\"Exam\").config(\"spark.some.config.option\", \"some-value\").getOrCreate()"
      ],
      "metadata": {
        "id": "xvkxczl3hU2o"
      },
      "id": "xvkxczl3hU2o",
      "execution_count": 48,
      "outputs": []
    },
    {
      "cell_type": "markdown",
      "id": "90c7df9e",
      "metadata": {
        "id": "90c7df9e"
      },
      "source": [
        "### Read the readme file to learn more about the data"
      ]
    },
    {
      "cell_type": "markdown",
      "id": "2d00718f",
      "metadata": {
        "id": "2d00718f"
      },
      "source": [
        "### Read the data into a DataFrame"
      ]
    },
    {
      "cell_type": "code",
      "source": [
        "path = '/content/sample_data/SMSSpamCollection.csv'"
      ],
      "metadata": {
        "id": "BFE7vtKehh5f"
      },
      "id": "BFE7vtKehh5f",
      "execution_count": 49,
      "outputs": []
    },
    {
      "cell_type": "code",
      "execution_count": 50,
      "id": "29914cf1",
      "metadata": {
        "id": "29914cf1"
      },
      "outputs": [],
      "source": [
        "data = spark.read.csv(path, inferSchema=True, sep='\\t')"
      ]
    },
    {
      "cell_type": "code",
      "source": [
        "data.show()"
      ],
      "metadata": {
        "colab": {
          "base_uri": "https://localhost:8080/"
        },
        "id": "BUmqqb0NhnI_",
        "outputId": "155cbebc-fca2-48ae-c0e2-81a85bf514ae"
      },
      "id": "BUmqqb0NhnI_",
      "execution_count": 51,
      "outputs": [
        {
          "output_type": "stream",
          "name": "stdout",
          "text": [
            "+----+--------------------+\n",
            "| _c0|                 _c1|\n",
            "+----+--------------------+\n",
            "| ham|Go until jurong p...|\n",
            "| ham|Ok lar... Joking ...|\n",
            "|spam|Free entry in 2 a...|\n",
            "| ham|U dun say so earl...|\n",
            "| ham|Nah I don't think...|\n",
            "|spam|FreeMsg Hey there...|\n",
            "| ham|Even my brother i...|\n",
            "| ham|As per your reque...|\n",
            "|spam|WINNER!! As a val...|\n",
            "|spam|Had your mobile 1...|\n",
            "| ham|I'm gonna be home...|\n",
            "|spam|SIX chances to wi...|\n",
            "|spam|URGENT! You have ...|\n",
            "| ham|I've been searchi...|\n",
            "| ham|I HAVE A DATE ON ...|\n",
            "|spam|XXXMobileMovieClu...|\n",
            "| ham|Oh k...i'm watchi...|\n",
            "| ham|Eh u remember how...|\n",
            "| ham|Fine if thats th...|\n",
            "|spam|England v Macedon...|\n",
            "+----+--------------------+\n",
            "only showing top 20 rows\n",
            "\n"
          ]
        }
      ]
    },
    {
      "cell_type": "markdown",
      "id": "182cd7f6",
      "metadata": {
        "id": "182cd7f6"
      },
      "source": [
        "### Print the schema"
      ]
    },
    {
      "cell_type": "code",
      "execution_count": 52,
      "id": "b52706b9",
      "metadata": {
        "colab": {
          "base_uri": "https://localhost:8080/"
        },
        "id": "b52706b9",
        "outputId": "bb8452e6-fbb3-40ab-dce8-fba9021aac0f"
      },
      "outputs": [
        {
          "output_type": "stream",
          "name": "stdout",
          "text": [
            "root\n",
            " |-- _c0: string (nullable = true)\n",
            " |-- _c1: string (nullable = true)\n",
            "\n"
          ]
        }
      ],
      "source": [
        "data.printSchema()"
      ]
    },
    {
      "cell_type": "markdown",
      "id": "2b90cce7",
      "metadata": {
        "id": "2b90cce7"
      },
      "source": [
        "### Rename the first column to 'class' and second column to 'text'"
      ]
    },
    {
      "cell_type": "code",
      "execution_count": 53,
      "id": "f1a88df6",
      "metadata": {
        "scrolled": false,
        "id": "f1a88df6"
      },
      "outputs": [],
      "source": [
        "data = data.withColumnRenamed('_c0','class').withColumnRenamed('_c1','text')"
      ]
    },
    {
      "cell_type": "code",
      "execution_count": 54,
      "id": "62a544fc",
      "metadata": {
        "colab": {
          "base_uri": "https://localhost:8080/"
        },
        "id": "62a544fc",
        "outputId": "3c3b81b6-699d-41fd-cf2d-ada19ae01b49"
      },
      "outputs": [
        {
          "output_type": "stream",
          "name": "stdout",
          "text": [
            "root\n",
            " |-- class: string (nullable = true)\n",
            " |-- text: string (nullable = true)\n",
            "\n"
          ]
        }
      ],
      "source": [
        "data.printSchema()"
      ]
    },
    {
      "cell_type": "markdown",
      "id": "a3e798d0",
      "metadata": {
        "id": "a3e798d0"
      },
      "source": [
        "### Show the first 10 rows from the dataframe\n",
        "- Show once with truncate=True and once with truncate=False"
      ]
    },
    {
      "cell_type": "code",
      "execution_count": 55,
      "id": "362dcb99",
      "metadata": {
        "colab": {
          "base_uri": "https://localhost:8080/"
        },
        "id": "362dcb99",
        "outputId": "9b015463-534d-411a-f4d1-31204866f24f"
      },
      "outputs": [
        {
          "output_type": "stream",
          "name": "stdout",
          "text": [
            "+-----+--------------------+\n",
            "|class|                text|\n",
            "+-----+--------------------+\n",
            "|  ham|Go until jurong p...|\n",
            "|  ham|Ok lar... Joking ...|\n",
            "| spam|Free entry in 2 a...|\n",
            "|  ham|U dun say so earl...|\n",
            "|  ham|Nah I don't think...|\n",
            "| spam|FreeMsg Hey there...|\n",
            "|  ham|Even my brother i...|\n",
            "|  ham|As per your reque...|\n",
            "| spam|WINNER!! As a val...|\n",
            "| spam|Had your mobile 1...|\n",
            "|  ham|I'm gonna be home...|\n",
            "| spam|SIX chances to wi...|\n",
            "| spam|URGENT! You have ...|\n",
            "|  ham|I've been searchi...|\n",
            "|  ham|I HAVE A DATE ON ...|\n",
            "| spam|XXXMobileMovieClu...|\n",
            "|  ham|Oh k...i'm watchi...|\n",
            "|  ham|Eh u remember how...|\n",
            "|  ham|Fine if thats th...|\n",
            "| spam|England v Macedon...|\n",
            "+-----+--------------------+\n",
            "only showing top 20 rows\n",
            "\n"
          ]
        }
      ],
      "source": [
        "data.show(truncate=True)"
      ]
    },
    {
      "cell_type": "code",
      "execution_count": 56,
      "id": "41609e6b",
      "metadata": {
        "colab": {
          "base_uri": "https://localhost:8080/"
        },
        "id": "41609e6b",
        "outputId": "5925dce0-9fd5-48f3-e1f5-d8b4eb4eaf9b"
      },
      "outputs": [
        {
          "output_type": "stream",
          "name": "stdout",
          "text": [
            "+-----+----------------------------------------------------------------------------------------------------------------------------------------------------------------------------------------------------+\n",
            "|class|text                                                                                                                                                                                                |\n",
            "+-----+----------------------------------------------------------------------------------------------------------------------------------------------------------------------------------------------------+\n",
            "|ham  |Go until jurong point, crazy.. Available only in bugis n great world la e buffet... Cine there got amore wat...                                                                                     |\n",
            "|ham  |Ok lar... Joking wif u oni...                                                                                                                                                                       |\n",
            "|spam |Free entry in 2 a wkly comp to win FA Cup final tkts 21st May 2005. Text FA to 87121 to receive entry question(std txt rate)T&C's apply 08452810075over18's                                         |\n",
            "|ham  |U dun say so early hor... U c already then say...                                                                                                                                                   |\n",
            "|ham  |Nah I don't think he goes to usf, he lives around here though                                                                                                                                       |\n",
            "|spam |FreeMsg Hey there darling it's been 3 week's now and no word back! I'd like some fun you up for it still? Tb ok! XxX std chgs to send, £1.50 to rcv                                                 |\n",
            "|ham  |Even my brother is not like to speak with me. They treat me like aids patent.                                                                                                                       |\n",
            "|ham  |As per your request 'Melle Melle (Oru Minnaminunginte Nurungu Vettam)' has been set as your callertune for all Callers. Press *9 to copy your friends Callertune                                    |\n",
            "|spam |WINNER!! As a valued network customer you have been selected to receivea £900 prize reward! To claim call 09061701461. Claim code KL341. Valid 12 hours only.                                       |\n",
            "|spam |Had your mobile 11 months or more? U R entitled to Update to the latest colour mobiles with camera for Free! Call The Mobile Update Co FREE on 08002986030                                          |\n",
            "|ham  |I'm gonna be home soon and i don't want to talk about this stuff anymore tonight, k? I've cried enough today.                                                                                       |\n",
            "|spam |SIX chances to win CASH! From 100 to 20,000 pounds txt> CSH11 and send to 87575. Cost 150p/day, 6days, 16+ TsandCs apply Reply HL 4 info                                                            |\n",
            "|spam |URGENT! You have won a 1 week FREE membership in our £100,000 Prize Jackpot! Txt the word: CLAIM to No: 81010 T&C www.dbuk.net LCCLTD POBOX 4403LDNW1A7RW18                                         |\n",
            "|ham  |I've been searching for the right words to thank you for this breather. I promise i wont take your help for granted and will fulfil my promise. You have been wonderful and a blessing at all times.|\n",
            "|ham  |I HAVE A DATE ON SUNDAY WITH WILL!!                                                                                                                                                                 |\n",
            "|spam |XXXMobileMovieClub: To use your credit, click the WAP link in the next txt message or click here>> http://wap. xxxmobilemovieclub.com?n=QJKGIGHJJGCBL                                               |\n",
            "|ham  |Oh k...i'm watching here:)                                                                                                                                                                          |\n",
            "|ham  |Eh u remember how 2 spell his name... Yes i did. He v naughty make until i v wet.                                                                                                                   |\n",
            "|ham  |Fine if thats the way u feel. Thats the way its gota b                                                                                                                                            |\n",
            "|spam |England v Macedonia - dont miss the goals/team news. Txt ur national team to 87077 eg ENGLAND to 87077 Try:WALES, SCOTLAND 4txt/ú1.20 POBOXox36504W45WQ 16+                                         |\n",
            "+-----+----------------------------------------------------------------------------------------------------------------------------------------------------------------------------------------------------+\n",
            "only showing top 20 rows\n",
            "\n"
          ]
        }
      ],
      "source": [
        "data.show(truncate=False)"
      ]
    },
    {
      "cell_type": "markdown",
      "id": "2fe744a9",
      "metadata": {
        "id": "2fe744a9"
      },
      "source": [
        "## Clean and Prepare the Data"
      ]
    },
    {
      "cell_type": "markdown",
      "id": "4d693167",
      "metadata": {
        "id": "4d693167"
      },
      "source": [
        "### Create a new feature column contains the length of the text column"
      ]
    },
    {
      "cell_type": "code",
      "execution_count": 57,
      "id": "5424a0cb",
      "metadata": {
        "id": "5424a0cb"
      },
      "outputs": [],
      "source": [
        "data = data.withColumn('length',length(data['text']))"
      ]
    },
    {
      "cell_type": "markdown",
      "id": "78ea2de6",
      "metadata": {
        "id": "78ea2de6"
      },
      "source": [
        "### Show the new dataframe"
      ]
    },
    {
      "cell_type": "code",
      "execution_count": 58,
      "id": "04c67c53",
      "metadata": {
        "scrolled": false,
        "colab": {
          "base_uri": "https://localhost:8080/"
        },
        "id": "04c67c53",
        "outputId": "aaf1eaab-7eae-41b7-856d-271fefd4b990"
      },
      "outputs": [
        {
          "output_type": "stream",
          "name": "stdout",
          "text": [
            "+-----+--------------------+------+\n",
            "|class|                text|length|\n",
            "+-----+--------------------+------+\n",
            "|  ham|Go until jurong p...|   111|\n",
            "|  ham|Ok lar... Joking ...|    29|\n",
            "| spam|Free entry in 2 a...|   155|\n",
            "|  ham|U dun say so earl...|    49|\n",
            "|  ham|Nah I don't think...|    61|\n",
            "| spam|FreeMsg Hey there...|   147|\n",
            "|  ham|Even my brother i...|    77|\n",
            "|  ham|As per your reque...|   160|\n",
            "| spam|WINNER!! As a val...|   157|\n",
            "| spam|Had your mobile 1...|   154|\n",
            "|  ham|I'm gonna be home...|   109|\n",
            "| spam|SIX chances to wi...|   136|\n",
            "| spam|URGENT! You have ...|   155|\n",
            "|  ham|I've been searchi...|   196|\n",
            "|  ham|I HAVE A DATE ON ...|    35|\n",
            "| spam|XXXMobileMovieClu...|   149|\n",
            "|  ham|Oh k...i'm watchi...|    26|\n",
            "|  ham|Eh u remember how...|    81|\n",
            "|  ham|Fine if thats th...|    56|\n",
            "| spam|England v Macedon...|   155|\n",
            "+-----+--------------------+------+\n",
            "only showing top 20 rows\n",
            "\n"
          ]
        }
      ],
      "source": [
        "data.show()"
      ]
    },
    {
      "cell_type": "markdown",
      "id": "692e37a6",
      "metadata": {
        "id": "692e37a6"
      },
      "source": [
        "### Get the average text length for each class (give alias name to the average length column)"
      ]
    },
    {
      "cell_type": "code",
      "execution_count": null,
      "id": "5c32727d",
      "metadata": {
        "id": "5c32727d",
        "outputId": "404bf919-bc5f-4fbc-a35c-9578636674d3"
      },
      "outputs": [
        {
          "name": "stdout",
          "output_type": "stream",
          "text": [
            "+-----+-----------------+\n",
            "|class|      Avg. Lenght|\n",
            "+-----+-----------------+\n",
            "|  ham|71.45431945307645|\n",
            "| spam|138.6706827309237|\n",
            "+-----+-----------------+\n",
            "\n"
          ]
        }
      ],
      "source": [
        ""
      ]
    },
    {
      "cell_type": "code",
      "source": [
        "data.groupby('class').mean().withColumnRenamed(\"avg(length)\", \" Avg. Lenght\").show()"
      ],
      "metadata": {
        "colab": {
          "base_uri": "https://localhost:8080/"
        },
        "id": "WGOkFlyukjyH",
        "outputId": "c78ad7be-6a95-4560-f1b2-dd961924b484"
      },
      "id": "WGOkFlyukjyH",
      "execution_count": 59,
      "outputs": [
        {
          "output_type": "stream",
          "name": "stdout",
          "text": [
            "+-----+-----------------+\n",
            "|class|      Avg. Lenght|\n",
            "+-----+-----------------+\n",
            "|  ham|71.45431945307645|\n",
            "| spam|138.6706827309237|\n",
            "+-----+-----------------+\n",
            "\n"
          ]
        }
      ]
    },
    {
      "cell_type": "markdown",
      "id": "d5e101af",
      "metadata": {
        "id": "d5e101af"
      },
      "source": [
        "## Feature Transformations"
      ]
    },
    {
      "cell_type": "markdown",
      "id": "838ad9dd",
      "metadata": {
        "id": "838ad9dd"
      },
      "source": [
        "### In this part you transform you raw text in to tf_idf model :\n",
        "- For more information about TF-IDF check the following link: <b>(Not needed for the test)</b>\n",
        "https://en.wikipedia.org/wiki/Tf%E2%80%93idf"
      ]
    },
    {
      "cell_type": "markdown",
      "id": "225067d5",
      "metadata": {
        "id": "225067d5"
      },
      "source": [
        "### Perform the following steps to obtain TF-IDF:\n",
        "1. Import the required transformers/estimators for the subsequent steps.\n",
        "2. Create a <b>Tokenizer</b> from the text column.\n",
        "3. Create a <b>StopWordsRemover</b> to remove the <b>stop words</b> from the column obtained from the <b>Tokenizer</b>.\n",
        "4. Create a <b>CountVectorizer</b> after removing the <b>stop words</b>.\n",
        "5. Create the <b>TF-IDF</b> from the <b>CountVectorizer</b>."
      ]
    },
    {
      "cell_type": "code",
      "execution_count": 60,
      "id": "6a4eebf8",
      "metadata": {
        "id": "6a4eebf8"
      },
      "outputs": [],
      "source": [
        "from pyspark.ml.feature import Tokenizer,StopWordsRemover, CountVectorizer,IDF,StringIndexer\n",
        "from pyspark.ml.feature import VectorAssembler\n",
        "from pyspark.ml.linalg import Vector"
      ]
    },
    {
      "cell_type": "code",
      "source": [
        "tokenizer = Tokenizer(inputCol=\"text\", outputCol=\"token_text\")"
      ],
      "metadata": {
        "id": "sYDXMhC6mjf_"
      },
      "id": "sYDXMhC6mjf_",
      "execution_count": 61,
      "outputs": []
    },
    {
      "cell_type": "code",
      "source": [
        "stopremove = StopWordsRemover(inputCol='token_text',outputCol='stop_tokens')"
      ],
      "metadata": {
        "id": "e38Lr3V9mjjA"
      },
      "id": "e38Lr3V9mjjA",
      "execution_count": 62,
      "outputs": []
    },
    {
      "cell_type": "code",
      "source": [
        "count_vec = CountVectorizer(inputCol='stop_tokens',outputCol='c_vec')"
      ],
      "metadata": {
        "id": "4ZNW2FlOmjmH"
      },
      "id": "4ZNW2FlOmjmH",
      "execution_count": 63,
      "outputs": []
    },
    {
      "cell_type": "code",
      "execution_count": 64,
      "id": "b82756db",
      "metadata": {
        "id": "b82756db"
      },
      "outputs": [],
      "source": [
        "idf = IDF(inputCol=\"c_vec\", outputCol=\"tf_idf\")"
      ]
    },
    {
      "cell_type": "markdown",
      "id": "1527ad65",
      "metadata": {
        "id": "1527ad65"
      },
      "source": [
        "- Convert the <b>class column</b> to index using <b>StringIndexer</b>\n",
        "- Create feature column from the <b>TF-IDF</b> and <b>lenght</b> columns."
      ]
    },
    {
      "cell_type": "code",
      "execution_count": 65,
      "id": "aaf46159",
      "metadata": {
        "id": "aaf46159"
      },
      "outputs": [],
      "source": [
        "ham_spam_to_num = StringIndexer(inputCol='class',outputCol='label')"
      ]
    },
    {
      "cell_type": "code",
      "execution_count": 66,
      "id": "ad9d4c52",
      "metadata": {
        "id": "ad9d4c52"
      },
      "outputs": [],
      "source": [
        "clean_up = VectorAssembler(inputCols=['tf_idf','length'],outputCol='features')"
      ]
    },
    {
      "cell_type": "markdown",
      "id": "9775d494",
      "metadata": {
        "id": "9775d494"
      },
      "source": [
        "## The Model\n",
        "- Create a <b>NaiveBayes</b> classifier with the default parameters."
      ]
    },
    {
      "cell_type": "code",
      "execution_count": 67,
      "id": "57af0d5d",
      "metadata": {
        "id": "57af0d5d"
      },
      "outputs": [],
      "source": [
        "from pyspark.ml.classification import NaiveBayes\n",
        "\n",
        "nb = NaiveBayes()"
      ]
    },
    {
      "cell_type": "markdown",
      "id": "dc14de63",
      "metadata": {
        "id": "dc14de63"
      },
      "source": [
        "## Pipeline\n",
        "### Create a pipeline model contains all the steps starting from the Tokenizer to the NaiveBays classifier."
      ]
    },
    {
      "cell_type": "code",
      "execution_count": 68,
      "id": "8ee0d1ca",
      "metadata": {
        "id": "8ee0d1ca"
      },
      "outputs": [],
      "source": [
        "from pyspark.ml import Pipeline\n",
        "\n",
        "data_prep_pipe = Pipeline(stages=[ham_spam_to_num, tokenizer, stopremove, count_vec, idf, clean_up, nb])"
      ]
    },
    {
      "cell_type": "markdown",
      "id": "f5d7efbe",
      "metadata": {
        "id": "f5d7efbe"
      },
      "source": [
        "### Split your data to trian and test data with ratios 0.7 and 0.3 respectively."
      ]
    },
    {
      "cell_type": "code",
      "execution_count": 69,
      "id": "2843d997",
      "metadata": {
        "id": "2843d997"
      },
      "outputs": [],
      "source": [
        "(training,testing) = data.randomSplit([0.7,0.3])"
      ]
    },
    {
      "cell_type": "markdown",
      "id": "8bcea576",
      "metadata": {
        "id": "8bcea576"
      },
      "source": [
        "### Fit your Pipeline model to the training data"
      ]
    },
    {
      "cell_type": "code",
      "execution_count": 70,
      "id": "3c5d4681",
      "metadata": {
        "id": "3c5d4681"
      },
      "outputs": [],
      "source": [
        "model = data_prep_pipe.fit(training)"
      ]
    },
    {
      "cell_type": "markdown",
      "id": "228a3eb1",
      "metadata": {
        "id": "228a3eb1"
      },
      "source": [
        "### Perform predictions on tests dataframe"
      ]
    },
    {
      "cell_type": "code",
      "execution_count": 71,
      "id": "14f4aab5",
      "metadata": {
        "id": "14f4aab5"
      },
      "outputs": [],
      "source": [
        "predictions = model.transform(testing)"
      ]
    },
    {
      "cell_type": "code",
      "source": [
        "predictions.show()"
      ],
      "metadata": {
        "colab": {
          "base_uri": "https://localhost:8080/"
        },
        "id": "ZmXpu9pKnntO",
        "outputId": "39900414-7d7d-4378-fdb3-1d3e770a187a"
      },
      "id": "ZmXpu9pKnntO",
      "execution_count": 72,
      "outputs": [
        {
          "output_type": "stream",
          "name": "stdout",
          "text": [
            "+-----+--------------------+------+-----+--------------------+--------------------+--------------------+--------------------+--------------------+--------------------+--------------------+----------+\n",
            "|class|                text|length|label|          token_text|         stop_tokens|               c_vec|              tf_idf|            features|       rawPrediction|         probability|prediction|\n",
            "+-----+--------------------+------+-----+--------------------+--------------------+--------------------+--------------------+--------------------+--------------------+--------------------+----------+\n",
            "|  ham| gonna let me kno...|    95|  0.0|[, gonna, let, me...|[, gonna, let, kn...|(10804,[3,13,63,8...|(10804,[3,13,63,8...|(10805,[3,13,63,8...|[-560.11654024299...|[1.0,1.4785501620...|       0.0|\n",
            "|  ham|\"Gimme a few\" was...|    41|  0.0|[\"gimme, a, few\",...|[\"gimme, few\", , ...|(10804,[3,6,393,1...|(10804,[3,6,393,1...|(10805,[3,6,393,1...|[-190.85253313777...|[1.0,1.4402902317...|       0.0|\n",
            "|  ham|\"Happy valentines...|   147|  0.0|[\"happy, valentin...|[\"happy, valentin...|(10804,[13,162,26...|(10804,[13,162,26...|(10805,[13,162,26...|[-512.16757925014...|[1.0,2.3826261766...|       0.0|\n",
            "|  ham|\"Its Ur luck to L...|   155|  0.0|[\"its, ur, luck, ...|[\"its, ur, luck, ...|(10804,[5,20,21,1...|(10804,[5,20,21,1...|(10805,[5,20,21,1...|[-908.63493287343...|[1.0,4.7206598041...|       0.0|\n",
            "|  ham|&lt;#&gt;  great ...|    85|  0.0|[&lt;#&gt;, , gre...|[&lt;#&gt;, , gre...|(10804,[3,6,35,69...|(10804,[3,6,35,69...|(10805,[3,6,35,69...|[-676.33221487932...|[1.0,1.6927836470...|       0.0|\n",
            "|  ham|&lt;#&gt;  is fas...|   461|  0.0|[&lt;#&gt;, , is,...|[&lt;#&gt;, , fas...|(10804,[0,3,6,8,1...|(10804,[0,3,6,8,1...|(10805,[0,3,6,8,1...|[-2189.9641034449...|[1.0,4.7071775333...|       0.0|\n",
            "|  ham|&lt;#&gt;  w jett...|    37|  0.0|[&lt;#&gt;, , w, ...|[&lt;#&gt;, , w, ...|(10804,[3,6,345,5...|(10804,[3,6,345,5...|(10805,[3,6,345,5...|[-223.25980594064...|[1.0,1.0154732819...|       0.0|\n",
            "|  ham|&lt;#&gt; %of ppl...|   327|  0.0|[&lt;#&gt;, %of, ...|[&lt;#&gt;, %of, ...|(10804,[0,2,3,4,6...|(10804,[0,2,3,4,6...|(10805,[0,2,3,4,6...|[-1486.5434760419...|[1.0,8.6598877236...|       0.0|\n",
            "|  ham|'An Amazing Quote...|   141|  0.0|['an, amazing, qu...|['an, amazing, qu...|(10804,[60,135,37...|(10804,[60,135,37...|(10805,[60,135,37...|[-738.24152182580...|[1.0,1.6339885519...|       0.0|\n",
            "|  ham|(No promises on w...|    60|  0.0|[(no, promises, o...|[(no, promises, t...|(10804,[98,340,29...|(10804,[98,340,29...|(10805,[98,340,29...|[-344.20656525915...|[1.0,2.3433827588...|       0.0|\n",
            "|  ham|* Am on a train b...|    56|  0.0|[*, am, on, a, tr...|[*, train, back, ...|(10804,[37,192,13...|(10804,[37,192,13...|(10805,[37,192,13...|[-401.11981566614...|[1.0,1.2550095222...|       0.0|\n",
            "|  ham|      * Am on my way|    14|  0.0|[*, am, on, my, way]|            [*, way]|(10804,[93,192],[...|(10804,[93,192],[...|(10805,[93,192,10...|[-82.363111954610...|[1.0,1.6018150866...|       0.0|\n",
            "|  ham|* Was really good...|    69|  0.0|[*, was, really, ...|[*, really, good,...|(10804,[17,35,50,...|(10804,[17,35,50,...|(10805,[17,35,50,...|[-281.56590833695...|[1.0,3.9204162752...|       0.0|\n",
            "|  ham|* You gonna ring ...|    37|  0.0|[*, you, gonna, r...|[*, gonna, ring, ...|(10804,[136,192,4...|(10804,[136,192,4...|(10805,[136,192,4...|[-209.03377594577...|[1.0,7.4308551241...|       0.0|\n",
            "|  ham|, ,  and  picking...|   169|  0.0|[,, ,, , and, , p...|[,, ,, , , pickin...|(10804,[0,2,3,8,2...|(10804,[0,2,3,8,2...|(10805,[0,2,3,8,2...|[-1266.2490324326...|[1.0,8.0948700334...|       0.0|\n",
            "|  ham|, how's things? J...|    38|  0.0|[,, how's, things...|[,, things?, quic...|(10804,[236,1363,...|(10804,[236,1363,...|(10805,[236,1363,...|[-205.89486104749...|[1.0,6.5174877534...|       0.0|\n",
            "|  ham|... Are you in th...|    23|  0.0|[..., are, you, i...|         [..., pub?]|(10804,[19,8396],...|(10804,[19,8396],...|(10805,[19,8396,1...|[-121.34722819922...|[0.99999999999998...|       0.0|\n",
            "|  ham|.Please charge my...|    52|  0.0|[.please, charge,...|[.please, charge,...|(10804,[4,38,516,...|(10804,[4,38,516,...|(10805,[4,38,516,...|[-203.12812616512...|[0.99977831146380...|       0.0|\n",
            "|  ham|1's finish meetin...|    27|  0.0|[1's, finish, mee...|[1's, finish, mee...|(10804,[1,54,214,...|(10804,[1,54,214,...|(10805,[1,54,214,...|[-227.59057018942...|[1.0,7.3371754983...|       0.0|\n",
            "|  ham|1.20 that call co...|    79|  0.0|[1.20, that, call...|[1.20, call, cost...|(10804,[1,16,21,2...|(10804,[1,16,21,2...|(10805,[1,16,21,2...|[-643.82789622977...|[1.0,1.6180523163...|       0.0|\n",
            "+-----+--------------------+------+-----+--------------------+--------------------+--------------------+--------------------+--------------------+--------------------+--------------------+----------+\n",
            "only showing top 20 rows\n",
            "\n"
          ]
        }
      ]
    },
    {
      "cell_type": "markdown",
      "id": "bce2885f",
      "metadata": {
        "id": "bce2885f"
      },
      "source": [
        "### Print the schema of the prediction dataframe"
      ]
    },
    {
      "cell_type": "code",
      "source": [
        "predictions.printSchema()"
      ],
      "metadata": {
        "colab": {
          "base_uri": "https://localhost:8080/"
        },
        "id": "RYyYNSBSpBom",
        "outputId": "57cf31f9-bbae-42e2-802a-a2e24fa7e790"
      },
      "id": "RYyYNSBSpBom",
      "execution_count": 73,
      "outputs": [
        {
          "output_type": "stream",
          "name": "stdout",
          "text": [
            "root\n",
            " |-- class: string (nullable = true)\n",
            " |-- text: string (nullable = true)\n",
            " |-- length: integer (nullable = true)\n",
            " |-- label: double (nullable = false)\n",
            " |-- token_text: array (nullable = true)\n",
            " |    |-- element: string (containsNull = true)\n",
            " |-- stop_tokens: array (nullable = true)\n",
            " |    |-- element: string (containsNull = true)\n",
            " |-- c_vec: vector (nullable = true)\n",
            " |-- tf_idf: vector (nullable = true)\n",
            " |-- features: vector (nullable = true)\n",
            " |-- rawPrediction: vector (nullable = true)\n",
            " |-- probability: vector (nullable = true)\n",
            " |-- prediction: double (nullable = false)\n",
            "\n"
          ]
        }
      ]
    },
    {
      "cell_type": "code",
      "execution_count": null,
      "id": "6e3ea341",
      "metadata": {
        "id": "6e3ea341",
        "outputId": "17756ea3-a542-4ecd-d4cd-42fee4098234"
      },
      "outputs": [
        {
          "name": "stdout",
          "output_type": "stream",
          "text": [
            "root\n",
            " |-- class: string (nullable = true)\n",
            " |-- text: string (nullable = true)\n",
            " |-- length: integer (nullable = true)\n",
            " |-- label: double (nullable = false)\n",
            " |-- token_text: array (nullable = true)\n",
            " |    |-- element: string (containsNull = true)\n",
            " |-- stop_tokens: array (nullable = true)\n",
            " |    |-- element: string (containsNull = true)\n",
            " |-- c_vec: vector (nullable = true)\n",
            " |-- tf_idf: vector (nullable = true)\n",
            " |-- features: vector (nullable = true)\n",
            " |-- rawPrediction: vector (nullable = true)\n",
            " |-- probability: vector (nullable = true)\n",
            " |-- prediction: double (nullable = false)\n",
            "\n"
          ]
        }
      ],
      "source": [
        ""
      ]
    },
    {
      "cell_type": "markdown",
      "id": "57f27055",
      "metadata": {
        "id": "57f27055"
      },
      "source": [
        "## Model Evaluation\n",
        "- Use <b>MulticlassClassificationEvaluator</b> to calculate the <b>f1_score</b>."
      ]
    },
    {
      "cell_type": "code",
      "execution_count": 74,
      "id": "61911086",
      "metadata": {
        "colab": {
          "base_uri": "https://localhost:8080/"
        },
        "id": "61911086",
        "outputId": "d39ac2fc-8ac0-4f20-dc4d-958437b274a3"
      },
      "outputs": [
        {
          "output_type": "stream",
          "name": "stdout",
          "text": [
            "f1_score is: 0.9771897406733621\n"
          ]
        }
      ],
      "source": [
        "from pyspark.ml.evaluation import MulticlassClassificationEvaluator\n",
        "acc_eval = MulticlassClassificationEvaluator()\n",
        "acc = acc_eval.evaluate(predictions)\n",
        "print(\"f1_score is: {}\".format(acc))"
      ]
    },
    {
      "cell_type": "code",
      "execution_count": null,
      "id": "af1f9ba1",
      "metadata": {
        "id": "af1f9ba1",
        "outputId": "37b48a0d-26e1-47a3-d3b2-8c9731a1fd7a"
      },
      "outputs": [
        {
          "name": "stdout",
          "output_type": "stream",
          "text": [
            "f1_score is: 0.9664707489549014\n"
          ]
        }
      ],
      "source": [
        ""
      ]
    },
    {
      "cell_type": "markdown",
      "id": "e00e7b53",
      "metadata": {
        "id": "e00e7b53"
      },
      "source": [
        "# GOOD LUCK\n",
        "<b><font color='GREEN'>AI-PRO Spark Team ITI</font></b>"
      ]
    },
    {
      "cell_type": "markdown",
      "id": "0e065922",
      "metadata": {
        "id": "0e065922"
      },
      "source": [
        "![image-3.png](attachment:image-3.png)"
      ]
    }
  ],
  "metadata": {
    "kernelspec": {
      "display_name": "Python 3",
      "language": "python",
      "name": "python3"
    },
    "language_info": {
      "codemirror_mode": {
        "name": "ipython",
        "version": 3
      },
      "file_extension": ".py",
      "mimetype": "text/x-python",
      "name": "python",
      "nbconvert_exporter": "python",
      "pygments_lexer": "ipython3",
      "version": "3.8.8"
    },
    "colab": {
      "name": "Spark and Python for Big Data Final Exam_Ahmed_Gamal-Corrective.ipynb",
      "provenance": [],
      "collapsed_sections": []
    }
  },
  "nbformat": 4,
  "nbformat_minor": 5
}